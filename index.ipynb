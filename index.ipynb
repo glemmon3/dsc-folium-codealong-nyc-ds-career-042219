{
 "cells": [
  {
   "cell_type": "markdown",
   "metadata": {},
   "source": [
    "# Folium - Codealong\n",
    "\n",
    "## Introduction \n",
    "\n",
    "In this codealong, we'll take a look at how to create an interactive map using the Folium package. From there, we'll return to APIs in the final lab for the day where you'll make an interactive map from your requests to the API!\n",
    "\n",
    "## Objectives\n",
    "\n",
    "You will be able to: \n",
    "* Create maps with Folium"
   ]
  },
  {
   "cell_type": "markdown",
   "metadata": {},
   "source": [
    "## Creating a Basemap\n",
    "\n",
    "Here we'll take a look at creating a basemap over the London region!"
   ]
  },
  {
   "cell_type": "code",
   "execution_count": 1,
   "metadata": {
    "scrolled": false
   },
   "outputs": [
    {
     "data": {
      "text/html": [
       "<div style=\"width:100%;\"><div style=\"position:relative;width:100%;height:0;padding-bottom:60%;\"><iframe src=\"data:text/html;charset=utf-8;base64,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\" style=\"position:absolute;width:100%;height:100%;left:0;top:0;border:none !important;\" allowfullscreen webkitallowfullscreen mozallowfullscreen></iframe></div></div>"
      ],
      "text/plain": [
       "<folium.folium.Map at 0x7ff238924c18>"
      ]
     },
     "execution_count": 1,
     "metadata": {},
     "output_type": "execute_result"
    }
   ],
   "source": [
    "import folium\n",
    "\n",
    "lat = 51.51\n",
    "long = -0.14\n",
    "\n",
    "#Create a map of the area\n",
    "base_map = folium.Map([lat, long], zoom_start=13)\n",
    "base_map"
   ]
  },
  {
   "cell_type": "markdown",
   "metadata": {},
   "source": [
    "## Adding Markers to the Map\n",
    "\n",
    "Great! Now let's take a look at adding little markers to our map!\n",
    "\n",
    "**Note:** you may have to zoom out to see all of the markers!"
   ]
  },
  {
   "cell_type": "code",
   "execution_count": 2,
   "metadata": {},
   "outputs": [
    {
     "data": {
      "text/html": [
       "<div style=\"width:100%;\"><div style=\"position:relative;width:100%;height:0;padding-bottom:60%;\"><iframe src=\"data:text/html;charset=utf-8;base64,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\" style=\"position:absolute;width:100%;height:100%;left:0;top:0;border:none !important;\" allowfullscreen webkitallowfullscreen mozallowfullscreen></iframe></div></div>"
      ],
      "text/plain": [
       "<folium.folium.Map at 0x7ff238924c18>"
      ]
     },
     "execution_count": 2,
     "metadata": {},
     "output_type": "execute_result"
    }
   ],
   "source": [
    "import numpy as np\n",
    "\n",
    "#Generate some random locations to add to our map\n",
    "x = [lat + np.random.uniform(-.1,.1) for i in range(20)]\n",
    "y = [long + np.random.uniform(-.1,.1) for i in range(20)]\n",
    "points = list(zip(x, y))\n",
    "for p in points:\n",
    "    lat = p[0]\n",
    "    long = p[1]\n",
    "    marker = folium.Marker(location=[lat, long])\n",
    "    marker.add_to(base_map)\n",
    "base_map"
   ]
  },
  {
   "cell_type": "markdown",
   "metadata": {},
   "source": [
    "## Adding Pop-up Boxes to Our Markers\n",
    "\n",
    "Often we may wish to not only place markers on the map, but to create interactive pop-ups which display information to that location. To do this, we can add a popup to our markers when adding them to the map! "
   ]
  },
  {
   "cell_type": "code",
   "execution_count": null,
   "metadata": {},
   "outputs": [],
   "source": [
    "for p in points:\n",
    "    lat = p[0]\n",
    "    long = p[1]\n",
    "    popup_text = \"Latitude: {}, Longitude: {}\".format(lat,long)\n",
    "    popup = folium.Popup(popup_text, parse_html=True)\n",
    "    marker = folium.Marker(location=[lat, long], popup=popup)\n",
    "    marker.add_to(base_map)\n",
    "base_map"
   ]
  },
  {
   "cell_type": "markdown",
   "metadata": {},
   "source": [
    "Now, if you click on the map markers, you should see a little information box pop up!\n",
    "\n",
    "## Summary \n",
    "\n",
    "In this codealong, we learned how to use Folium to create some cool interactive maps with only a few lines of python code! In the next lab, you'll synthesize your skills for the day together and create an interactive visualization map for data you retrieve from the Yelp API!"
   ]
  }
 ],
 "metadata": {
  "kernelspec": {
   "display_name": "Python 3",
   "language": "python",
   "name": "python3"
  },
  "language_info": {
   "codemirror_mode": {
    "name": "ipython",
    "version": 3
   },
   "file_extension": ".py",
   "mimetype": "text/x-python",
   "name": "python",
   "nbconvert_exporter": "python",
   "pygments_lexer": "ipython3",
   "version": "3.6.6"
  }
 },
 "nbformat": 4,
 "nbformat_minor": 2
}
